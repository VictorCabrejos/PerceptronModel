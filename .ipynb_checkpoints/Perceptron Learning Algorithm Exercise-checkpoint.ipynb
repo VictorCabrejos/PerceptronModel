{
 "cells": [
  {
   "cell_type": "markdown",
   "metadata": {},
   "source": [
    "### Part 1"
   ]
  },
  {
   "cell_type": "markdown",
   "metadata": {},
   "source": [
    "Find a linear discriminant that separates the patterns in the logical OR dataset\n",
    "Choose w that points toward the (1,1) data point. Use [0,0.6] to calculate the bias.\n",
    "Find the equation of the decision boundary and draw it to the attribute-space \n",
    "diagram of the logical OR shown below. Calculate the margins of the open circle \n",
    "and closed circles patterns. Show all of your work.\n"
   ]
  },
  {
   "cell_type": "markdown",
   "metadata": {},
   "source": [
    "### Perceptron Model"
   ]
  },
  {
   "cell_type": "markdown",
   "metadata": {},
   "source": [
    "<img src=\"img/pla1.png\">\n",
    "<img src=\"img/pla2.png\">\n",
    "<img src=\"img/pla3.png\">"
   ]
  },
  {
   "cell_type": "markdown",
   "metadata": {},
   "source": [
    "    . All the inputs that produce an output 1 lie on one side (positive half space) and all the inputs that produce an output 0 lie on the other side (negative half space)\n",
    "\n",
    "    . a single perceptron can only be used to implement linearly separable functions\n",
    "\n",
    "    . the weights, including the threshold can be learned and the inputs can be real values.\n",
    "\n",
    "<img src=\"img/pla4.png\">\n",
    "<img src=\"img/pla5.png\">\n",
    "<img src=\"img/pla14.png\">"
   ]
  },
  {
   "cell_type": "markdown",
   "metadata": {},
   "source": [
    "Margins\n",
    "\n",
    "W = [1,1] \n",
    "\n",
    "\n",
    "||w|| = sqrt(1+1) = 1.1414\n",
    "\n",
    "For closed circle pattern:  [1,1] * [0,1] -0.6 = 0.4\n",
    "margin = 0.4/1.14 = 0.35\n",
    "\n",
    "Fore open circle Pattern: [1,1] * [0,0] - 0.6 = -0.6\n",
    "margin = 0.6/1.14 = 0.53\n",
    "\n"
   ]
  },
  {
   "cell_type": "markdown",
   "metadata": {},
   "source": [
    "### Part 2"
   ]
  },
  {
   "attachments": {},
   "cell_type": "markdown",
   "metadata": {},
   "source": [
    "<img src=\"img/pla7.png\">"
   ]
  },
  {
   "attachments": {},
   "cell_type": "markdown",
   "metadata": {},
   "source": [
    "<img src=\"img/pla6.png\">"
   ]
  },
  {
   "cell_type": "markdown",
   "metadata": {},
   "source": [
    "<img src=\"img/pla10.png\">\n",
    "<img src=\"img/pla11.png\">\n",
    "<img src=\"img/pla12.png\">\n",
    "<img src=\"img/pla13.png\">"
   ]
  },
  {
   "cell_type": "markdown",
   "metadata": {},
   "source": [
    "Bias:\n",
    "\n",
    "b = -2  \n",
    "\n",
    "Weight :\n",
    "\n",
    "w = -1.5 \n",
    "     -1\n",
    "     -0.5\n",
    "\n",
    "Equation:\n",
    "\n",
    "wX + b = 0\n",
    "\n",
    "\n",
    "Margins / Distances from points\n",
    "\n",
    "w = -1.5 \n",
    "     -1\n",
    "     -0.5\n",
    "     \n",
    "W = [-1.5 , -1, -0.5] \n",
    "\n",
    "\n",
    "||w|| = sqrt(1.5+1+0.5) = 1.73\n",
    "\n",
    "For closed circle pattern:  [-1.5 , -1, -0.5] * [-1,1,-1] - 2 = -1\n",
    "margin = -1/1.73 = -0.58\n",
    "\n",
    "Fore open circle Pattern: [-1.5 , -1, -0.5] * [1,1,-1] - 2 = -4\n",
    "margin = -4/1.73 = -2.31"
   ]
  },
  {
   "cell_type": "code",
   "execution_count": null,
   "metadata": {},
   "outputs": [],
   "source": []
  }
 ],
 "metadata": {
  "kernelspec": {
   "display_name": "Python 3",
   "language": "python",
   "name": "python3"
  },
  "language_info": {
   "codemirror_mode": {
    "name": "ipython",
    "version": 3
   },
   "file_extension": ".py",
   "mimetype": "text/x-python",
   "name": "python",
   "nbconvert_exporter": "python",
   "pygments_lexer": "ipython3",
   "version": "3.7.3"
  }
 },
 "nbformat": 4,
 "nbformat_minor": 2
}
